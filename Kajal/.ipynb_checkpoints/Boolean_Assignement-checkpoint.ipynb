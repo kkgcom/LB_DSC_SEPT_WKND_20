{
 "cells": [
  {
   "cell_type": "code",
   "execution_count": 3,
   "metadata": {
    "id": "7JIFn6BP4M0R"
   },
   "outputs": [
    {
     "name": "stdout",
     "output_type": "stream",
     "text": [
      "<class 'bool'> 140724990502736\n"
     ]
    }
   ],
   "source": [
    "#Declare a boolean value and store it in a variable. \n",
    "\n",
    "bl=True\n",
    "\n",
    "#Check the type and print the id of the same.\n",
    "\n",
    "print(type(bl), id(bl))\n"
   ]
  },
  {
   "cell_type": "code",
   "execution_count": 9,
   "metadata": {
    "id": "o9bjjhN64kAP"
   },
   "outputs": [
    {
     "name": "stdout",
     "output_type": "stream",
     "text": [
      "140724990502736 140724990502736\n"
     ]
    }
   ],
   "source": [
    "#Take one boolean value between 0 - 256.\n",
    "#Assign it to two different variables.\n",
    "\n",
    "\n",
    "\n",
    "#Check the id of both the variables. It should come same. Check why?\n",
    "\n",
    "val1=True\n",
    "val2=True\n",
    "print(id(val1),id(val2))\n",
    "\n",
    "\n",
    "#Immutable objects don't have the same id, and as a mater of fact this is not true for any type of objects that you \n",
    "#define separately. Generally speaking, every time you define an object in Python, you'll create a new object with a new \n",
    "#identity. However, for the sake of optimization (mostly) there are some exceptions for small integers (between -5 and 256) \n",
    "#and interned strings, with a special length --usually less than 20 characters--* which are singletons and have the same id \n",
    "#(actually one object with multiple pointers).\n",
    "\n"
   ]
  },
  {
   "cell_type": "code",
   "execution_count": 5,
   "metadata": {
    "id": "yr4ETGSf4l5y"
   },
   "outputs": [
    {
     "name": "stdout",
     "output_type": "stream",
     "text": [
      "Sum of the boolean is: 1\n",
      "Difference of the boolean is: -1\n",
      "Product of the boolean is: 0\n",
      "Division value of the boolean is: 0.0\n",
      "Remainder of the boolean is: 0\n",
      "Quotient of the boolean is: 0\n",
      "Power of the boolean is: 1\n"
     ]
    }
   ],
   "source": [
    "#Arithmatic Operations on boolean data\n",
    "#Take two different boolean values.\n",
    "#Store them in two different variables.\n",
    "\n",
    "\n",
    "\n",
    "#Do below operations on them:-\n",
    "    #Find sum of both values\n",
    "    \n",
    "\n",
    "\n",
    "    #Find differce between them\n",
    "\n",
    "\n",
    "\n",
    "    #Find the product of both.\n",
    "\n",
    "\n",
    "\n",
    "    #Find value after dividing first value with second value\n",
    "    \n",
    "\n",
    "    \n",
    "    #Find the remainder after dividing first value with second value\n",
    "    \n",
    "\n",
    "    \n",
    "    #Find the quotient after dividing first value with second value\n",
    "    \n",
    "\n",
    "    \n",
    "    #Find the result of first value to the power of second value.\n",
    "    \n",
    "\n",
    "\n",
    "val1=True\n",
    "val2=False\n",
    "print(f\"Sum of the boolean is: {bool(val1) + bool(val2)}\")\n",
    "print(f\"Difference of the boolean is: {bool(val2) - bool(val1)}\")\n",
    "print(f\"Product of the boolean is: {bool(val1) * bool(val2)}\")\n",
    "print(f\"Division value of the boolean is: {bool(val2) / bool(val1)}\")\n",
    "print(f\"Remainder of the boolean is: {bool(val2) % bool(val1)}\")\n",
    "print(f\"Quotient of the boolean is: {bool(val2) // bool(val1)}\")\n",
    "print(f\"Power of the boolean is: {bool(val1)**bool(val2)}\")\n",
    "\n",
    "\n",
    "\n",
    "\n",
    "\n",
    "\n",
    "\n",
    "    "
   ]
  },
  {
   "cell_type": "code",
   "execution_count": 10,
   "metadata": {
    "id": "xG4mX84E4n2O"
   },
   "outputs": [
    {
     "name": "stdout",
     "output_type": "stream",
     "text": [
      "True\n",
      "False\n",
      "True\n",
      "False\n"
     ]
    }
   ],
   "source": [
    "#Comparison Operators on boolean values\n",
    "#Take two different boolean values.\n",
    "#Store them in two different variables.\n",
    "\n",
    "\n",
    "\n",
    "#Do below operations on them:-\n",
    "    #Compare these two values with below operator:-\n",
    "        #Greater than, '>'\n",
    "    \n",
    "\n",
    "\n",
    "        #less than, '<'\n",
    "    \n",
    "\n",
    "        #Greater than or equal to, '>='\n",
    "\n",
    "\n",
    "        #Less than or equal to, '<='    \n",
    "\n",
    "\n",
    "#Observe their output(return type should be boolean)\n",
    "\n",
    "val1=True\n",
    "val2=False\n",
    "print(val1>val2)\n",
    "print(val1<val2)\n",
    "print(val1>=val2)\n",
    "print(val1<=val2)\n",
    "\n",
    "\n",
    "\n",
    "\n",
    "\n",
    "\n"
   ]
  },
  {
   "cell_type": "code",
   "execution_count": 11,
   "metadata": {
    "id": "TUIo2Z9V4qBJ"
   },
   "outputs": [
    {
     "name": "stdout",
     "output_type": "stream",
     "text": [
      "False\n",
      "True\n"
     ]
    }
   ],
   "source": [
    "#Equality Operator\n",
    "#Take two different boolean values.\n",
    "#Store them in two different variables.\n",
    "\n",
    "\n",
    "\n",
    "#Equuate them using equality operator (==, !=)\n",
    "\n",
    "\n",
    "\n",
    "#Observe the output(return type should be boolean)\n",
    "\n",
    "\n",
    "val1=True\n",
    "val2=False\n",
    "print(val1==val2)\n",
    "print(val1!=val2)\n",
    "\n",
    "\n",
    "\n"
   ]
  },
  {
   "cell_type": "code",
   "execution_count": 12,
   "metadata": {
    "id": "XukEq5E44rxv"
   },
   "outputs": [
    {
     "name": "stdout",
     "output_type": "stream",
     "text": [
      "True\n",
      "False\n",
      "False\n",
      "False\n",
      "True\n",
      "True\n",
      "True\n",
      "False\n",
      "False\n",
      "True\n"
     ]
    }
   ],
   "source": [
    "#Logical operators\n",
    "#Observe the output of below code\n",
    "#Cross check the output manually\n",
    "\n",
    "print(True and True)        #----------------------------------------->Output is True\n",
    "print(False and True)        #----------------------------------------->Output is False\n",
    "print(True and False)        #----------------------------------------->Output is False\n",
    "print(False and False)       #----------------------------------------->Output is False\n",
    "\n",
    "print(True or True)          #----------------------------------------->Output is True\n",
    "print(False or True)         #----------------------------------------->Output is True\n",
    "print(True or False)         #----------------------------------------->Output is True\n",
    "print(False or False)        #----------------------------------------->Output is False\n",
    "\n",
    "print(not True)              #----------------------------------------->Output is False\n",
    "print(not False)             #----------------------------------------->Output is True"
   ]
  },
  {
   "cell_type": "code",
   "execution_count": 19,
   "metadata": {
    "id": "02jPgt094vK-"
   },
   "outputs": [
    {
     "name": "stdout",
     "output_type": "stream",
     "text": [
      "False\n",
      "True\n",
      "True\n",
      "-2\n",
      "1\n",
      "1\n"
     ]
    }
   ],
   "source": [
    "#Bitwise Operators\n",
    "#Do below operations on the values provided below:-\n",
    "    #Bitwise and(&) -----------------------------------------> True, True    -------> Output is True\n",
    "    \n",
    "\n",
    "\n",
    "    #Bitwise or(|)  -----------------------------------------> True, False   -------> Output is True\n",
    "\n",
    "\n",
    "\n",
    "    #Bitwise(^)     -----------------------------------------> True, False   -------> Output is True\n",
    "\n",
    "  \n",
    "\n",
    "    #Bitwise negation(~) ------------------------------------> True          -------> Output is -2\n",
    "\n",
    "   \n",
    "\n",
    "    #Bitwise left shift  ------------------------------------> True,2        -------> Output is 4\n",
    "\n",
    "\n",
    "\n",
    "    #Bitwise right shift ------------------------------------> True,2        -------> Output is 0\n",
    "\n",
    "\n",
    "\n",
    "#Cross check the output manually\n",
    "\n",
    "val1=True\n",
    "val2=False\n",
    "print(val1&val2)\n",
    "print(val1|val2)\n",
    "print(val1^val2)\n",
    "print(~val1)\n",
    "print(val1<<val2)\n",
    "print(val1>>val2)\n",
    "\n",
    "\n",
    "\n",
    "\n",
    "\n",
    "\n",
    "\n"
   ]
  },
  {
   "cell_type": "code",
   "execution_count": 13,
   "metadata": {
    "id": "cy5i7sWz4v_c"
   },
   "outputs": [
    {
     "name": "stdout",
     "output_type": "stream",
     "text": [
      "True\n",
      "False\n",
      "True\n",
      "False\n"
     ]
    }
   ],
   "source": [
    "#What is the output of expression inside print statement. Cross check before running the program.\n",
    "a = True\n",
    "b = True\n",
    "print(a is b)          #True or False?   #\n",
    "print(a is not b)      #True or False?\n",
    "\n",
    "a = False\n",
    "b = False\n",
    "print(a is b)          #True or False?\n",
    "print(a is not b)      #True or False?\n"
   ]
  },
  {
   "cell_type": "code",
   "execution_count": 14,
   "metadata": {
    "id": "AOcPQi8544M-"
   },
   "outputs": [
    {
     "name": "stdout",
     "output_type": "stream",
     "text": [
      "True\n",
      "True\n",
      "True\n",
      "True\n",
      "True\n"
     ]
    }
   ],
   "source": [
    "#Membership operation\n",
    "#in, not in are two membership operators and it returns boolean value\n",
    "\n",
    "print(True in [10,10.20,10+20j,'Python', True])\n",
    "print(False in (10,10.20,10+20j,'Python', False))\n",
    "print(True in {1,2,3, True})\n",
    "print(True in {True:100, False:200, True:300})\n",
    "print(False in {True:100, False:200, True:300})"
   ]
  },
  {
   "cell_type": "code",
   "execution_count": null,
   "metadata": {
    "id": "MPa1Lpco46Ja"
   },
   "outputs": [],
   "source": []
  }
 ],
 "metadata": {
  "colab": {
   "name": "Boolean_Assignement.ipynb",
   "provenance": []
  },
  "kernelspec": {
   "display_name": "Python 3",
   "language": "python",
   "name": "python3"
  },
  "language_info": {
   "codemirror_mode": {
    "name": "ipython",
    "version": 3
   },
   "file_extension": ".py",
   "mimetype": "text/x-python",
   "name": "python",
   "nbconvert_exporter": "python",
   "pygments_lexer": "ipython3",
   "version": "3.8.3"
  }
 },
 "nbformat": 4,
 "nbformat_minor": 1
}
